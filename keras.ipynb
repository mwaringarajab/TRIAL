{
  "nbformat": 4,
  "nbformat_minor": 0,
  "metadata": {
    "colab": {
      "provenance": [],
      "authorship_tag": "ABX9TyOfcKj4P1AFIyHZ3ko8S4Ka",
      "include_colab_link": true
    },
    "kernelspec": {
      "name": "python3",
      "display_name": "Python 3"
    },
    "language_info": {
      "name": "python"
    }
  },
  "cells": [
    {
      "cell_type": "markdown",
      "metadata": {
        "id": "view-in-github",
        "colab_type": "text"
      },
      "source": [
        "<a href=\"https://colab.research.google.com/github/mwaringarajab/TRIAL/blob/main/keras.ipynb\" target=\"_parent\"><img src=\"https://colab.research.google.com/assets/colab-badge.svg\" alt=\"Open In Colab\"/></a>"
      ]
    },
    {
      "cell_type": "code",
      "execution_count": 1,
      "metadata": {
        "colab": {
          "base_uri": "https://localhost:8080/"
        },
        "id": "xL8YfSDx7rxr",
        "outputId": "e8a81cf0-1a4d-4da5-dc92-f787ec9d4554"
      },
      "outputs": [
        {
          "output_type": "stream",
          "name": "stdout",
          "text": [
            "Downloading data from https://storage.googleapis.com/tensorflow/tf-keras-datasets/mnist.npz\n",
            "\u001b[1m11490434/11490434\u001b[0m \u001b[32m━━━━━━━━━━━━━━━━━━━━\u001b[0m\u001b[37m\u001b[0m \u001b[1m0s\u001b[0m 0us/step\n"
          ]
        },
        {
          "output_type": "stream",
          "name": "stderr",
          "text": [
            "/usr/local/lib/python3.11/dist-packages/keras/src/layers/reshaping/flatten.py:37: UserWarning: Do not pass an `input_shape`/`input_dim` argument to a layer. When using Sequential models, prefer using an `Input(shape)` object as the first layer in the model instead.\n",
            "  super().__init__(**kwargs)\n"
          ]
        },
        {
          "output_type": "stream",
          "name": "stdout",
          "text": [
            "Epoch 1/5\n",
            "\u001b[1m1875/1875\u001b[0m \u001b[32m━━━━━━━━━━━━━━━━━━━━\u001b[0m\u001b[37m\u001b[0m \u001b[1m9s\u001b[0m 4ms/step - accuracy: 0.8631 - loss: 0.4757\n",
            "Epoch 2/5\n",
            "\u001b[1m1875/1875\u001b[0m \u001b[32m━━━━━━━━━━━━━━━━━━━━\u001b[0m\u001b[37m\u001b[0m \u001b[1m6s\u001b[0m 3ms/step - accuracy: 0.9547 - loss: 0.1519\n",
            "Epoch 3/5\n",
            "\u001b[1m1875/1875\u001b[0m \u001b[32m━━━━━━━━━━━━━━━━━━━━\u001b[0m\u001b[37m\u001b[0m \u001b[1m7s\u001b[0m 4ms/step - accuracy: 0.9685 - loss: 0.1062\n",
            "Epoch 4/5\n",
            "\u001b[1m1875/1875\u001b[0m \u001b[32m━━━━━━━━━━━━━━━━━━━━\u001b[0m\u001b[37m\u001b[0m \u001b[1m6s\u001b[0m 3ms/step - accuracy: 0.9726 - loss: 0.0861\n",
            "Epoch 5/5\n",
            "\u001b[1m1875/1875\u001b[0m \u001b[32m━━━━━━━━━━━━━━━━━━━━\u001b[0m\u001b[37m\u001b[0m \u001b[1m7s\u001b[0m 4ms/step - accuracy: 0.9777 - loss: 0.0700\n",
            "\u001b[1m313/313\u001b[0m \u001b[32m━━━━━━━━━━━━━━━━━━━━\u001b[0m\u001b[37m\u001b[0m \u001b[1m1s\u001b[0m 2ms/step - accuracy: 0.9727 - loss: 0.0883\n"
          ]
        },
        {
          "output_type": "execute_result",
          "data": {
            "text/plain": [
              "[0.07215624302625656, 0.9767000079154968]"
            ]
          },
          "metadata": {},
          "execution_count": 1
        }
      ],
      "source": [
        "# Import TensorFlow, which includes the Keras API.\n",
        "import tensorflow as tf\n",
        "\n",
        "# Load the MNIST dataset provided by Keras.\n",
        "# This function downloads the dataset (if not already present locally) and splits it\n",
        "# into training and testing sets. The images are stored in x_train and x_test, and their corresponding labels are stored in y_train and y_test.\n",
        "(x_train, y_train), (x_test, y_test) = tf.keras.datasets.mnist.load_data()\n",
        "\n",
        "# Normalize the image data.\n",
        "# The pixel values in the MNIST images range from 0 to 255. Dividing by 255.0 scales these values to the range 0 to 1.\n",
        "x_train, x_test = x_train / 255.0, x_test / 255.0\n",
        "\n",
        "# Build the neural network model using the Sequential API.\n",
        "# The model is a linear stack of layers.\n",
        "model = tf.keras.models.Sequential([\n",
        "    # Flatten layer:\n",
        "    # Converts each 28x28 image into a 1D array of 784 pixels.\n",
        "    tf.keras.layers.Flatten(input_shape=(28, 28)),\n",
        "\n",
        "    # Dense (fully-connected) layer:\n",
        "    # Has 128 neurons and uses the ReLU activation function to add non-linearity.\n",
        "    tf.keras.layers.Dense(128, activation='relu'),\n",
        "\n",
        "    # Dropout layer:\n",
        "    # Randomly sets 20% of the input units to 0 at each update during training to reduce the risk of overfitting.\n",
        "    tf.keras.layers.Dropout(0.2),\n",
        "\n",
        "    # Output layer:\n",
        "    # A Dense layer with 10 neurons—one for each digit (0-9)—and a softmax activation,\n",
        "    # which converts the outputs into probabilities that sum to 1.\n",
        "    tf.keras.layers.Dense(10, activation='softmax')\n",
        "])\n",
        "\n",
        "# Compile the model.\n",
        "# - optimizer: The Adam optimizer adapts the learning rate during training.\n",
        "# - loss: 'sparse_categorical_crossentropy' is appropriate for multi-class classification (when labels are provided as integers).\n",
        "# - metrics: We track 'accuracy' during training and testing.\n",
        "model.compile(optimizer='adam',\n",
        "              loss='sparse_categorical_crossentropy',\n",
        "              metrics=['accuracy'])\n",
        "\n",
        "# Train the model using the training data.\n",
        "# The model will go through the data for 5 epochs (complete passes through the training data).\n",
        "model.fit(x_train, y_train, epochs=5)\n",
        "\n",
        "# Evaluate the model performance on the test data.\n",
        "# This step computes the model's loss and accuracy on the unseen test dataset.\n",
        "model.evaluate(x_test, y_test)"
      ]
    }
  ]
}